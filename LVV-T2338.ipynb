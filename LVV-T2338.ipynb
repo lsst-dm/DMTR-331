{
 "cells": [
  {
   "cell_type": "markdown",
   "id": "6ba8bf77-c687-477a-84db-fbcd39c1a860",
   "metadata": {},
   "source": [
    "# For  LDM-503-EFDb  \n",
    "\n",
    "Initialize EFDs Summit and USDF"
   ]
  },
  {
   "cell_type": "code",
   "execution_count": 5,
   "id": "3cc777f2-f27c-4f31-98cb-34444747e645",
   "metadata": {
    "execution": {
     "iopub.execute_input": "2023-06-16T18:50:38.134020Z",
     "iopub.status.busy": "2023-06-16T18:50:38.133745Z",
     "iopub.status.idle": "2023-06-16T18:50:41.845201Z",
     "shell.execute_reply": "2023-06-16T18:50:41.844688Z",
     "shell.execute_reply.started": "2023-06-16T18:50:38.134002Z"
    },
    "tags": []
   },
   "outputs": [],
   "source": [
    "from lsst_efd_client import EfdClient, resample\n",
    "\n",
    "client = EfdClient('summit_efd')\n",
    "client.output = 'dataframe'\n",
    "cl=client.influx_client\n",
    "\n",
    "\n",
    "\n",
    "usdf_client = EfdClient('usdf_efd')\n",
    "usdf_client.output = 'dataframe'\n",
    "usdf_cl=usdf_client.influx_client\n"
   ]
  },
  {
   "cell_type": "code",
   "execution_count": null,
   "id": "d69d8410-9abf-477b-a744-fce0ca62dbe2",
   "metadata": {},
   "outputs": [],
   "source": [
    "## Pick five topics"
   ]
  },
  {
   "cell_type": "code",
   "execution_count": 9,
   "id": "740ef198-2f2f-4cee-aead-4e82fb716439",
   "metadata": {
    "execution": {
     "iopub.execute_input": "2023-06-16T18:57:41.442606Z",
     "iopub.status.busy": "2023-06-16T18:57:41.442250Z",
     "iopub.status.idle": "2023-06-16T18:57:43.099062Z",
     "shell.execute_reply": "2023-06-16T18:57:43.098648Z",
     "shell.execute_reply.started": "2023-06-16T18:57:41.442589Z"
    },
    "tags": []
   },
   "outputs": [
    {
     "name": "stdout",
     "output_type": "stream",
     "text": [
      "lsst.sal.GIS.logevent_heartbeat had 30 messages in first 30 min of 2023-05-20\n",
      "lsst.sal.ATOODS.logevent_heartbeat had 30 messages in first 30 min of 2023-05-20\n",
      "lsst.sal.Test.logevent_heartbeat had 30 messages in first 30 min of 2023-05-20\n",
      "lsst.sal.ESS.relativeHumidity had 87 messages in first 30 min of 2023-05-20\n",
      "lsst.sal.ESS.logevent_heartbeat had 329 messages in first 30 min of 2023-05-20\n",
      "Random selction of five 'summit' topics ['lsst.sal.GIS.logevent_heartbeat', 'lsst.sal.ATOODS.logevent_heartbeat', 'lsst.sal.Test.logevent_heartbeat', 'lsst.sal.ESS.relativeHumidity', 'lsst.sal.ESS.logevent_heartbeat'] with messages on 2023-05-20\n"
     ]
    }
   ],
   "source": [
    "import random\n",
    "topics = await client.get_topics()\n",
    "\n",
    "selected_topics = []\n",
    "results = {}\n",
    "loc = \"summit\"\n",
    "\n",
    "day = '2023-05-20'\n",
    "\n",
    "# want to selct 5 topics randomly but with messages so randomize all indexes \n",
    "randoms = random.sample(range(0,len(topics)),len(topics))\n",
    "for r in randoms:\n",
    "   topic = topics[r]\n",
    "   result = []\n",
    "   if len(selected_topics) < 5:\n",
    "      query=f'''SELECT * FROM \"{topic}\" WHERE time >  '{day}T00:00:00.000Z' and time < '{day}T00:00:30.000Z' '''\n",
    "      result = await cl.query(query)\n",
    "\n",
    "   if len(result) > 20:\n",
    "        print (f\"{topic} had {len(result)} messages in first 30 min of {day}\")\n",
    "        selected_topics.append(topic)\n",
    "        results[topic] = result\n",
    "        if len(selected_topics) > 4:\n",
    "            break\n",
    "\n",
    "\n",
    "print(f\"Random selction of five '{loc}' topics {selected_topics} with messages on {day}\")"
   ]
  },
  {
   "cell_type": "code",
   "execution_count": null,
   "id": "65c5acae-c8e6-46aa-b9f4-b37633531d10",
   "metadata": {},
   "outputs": [],
   "source": [
    "## Utility function to compare reusults"
   ]
  },
  {
   "cell_type": "code",
   "execution_count": 10,
   "id": "917837ed-940f-4cde-b06f-f58e8f53a161",
   "metadata": {
    "execution": {
     "iopub.execute_input": "2023-06-16T19:05:12.245530Z",
     "iopub.status.busy": "2023-06-16T19:05:12.245250Z",
     "iopub.status.idle": "2023-06-16T19:05:12.249147Z",
     "shell.execute_reply": "2023-06-16T19:05:12.248665Z",
     "shell.execute_reply.started": "2023-06-16T19:05:12.245513Z"
    },
    "tags": []
   },
   "outputs": [],
   "source": [
    "def cmp(topic, result, sresult):\n",
    "   print (f\"{topic} had {len(result)} messages - summit had {len(sresult)}\")\n",
    "   if len(result) != len(sresult):\n",
    "        print (f\"{topic} does not have the same number of results\")\n",
    "   else:\n",
    "        for k in sresult.keys():\n",
    "            if result[k].all() != sresult[k].all():\n",
    "                print (f\"{topic} {key} does not match\")\n"
   ]
  },
  {
   "cell_type": "code",
   "execution_count": null,
   "id": "8a79d5e9-8bb5-409c-a3db-e6a3e0318253",
   "metadata": {},
   "outputs": [],
   "source": [
    "## Get dataframes"
   ]
  },
  {
   "cell_type": "code",
   "execution_count": 24,
   "id": "b7050926-c49d-4e97-86d1-2e3be82fb1cc",
   "metadata": {
    "execution": {
     "iopub.execute_input": "2023-06-16T20:19:18.216497Z",
     "iopub.status.busy": "2023-06-16T20:19:18.216213Z",
     "iopub.status.idle": "2023-06-16T20:26:02.618448Z",
     "shell.execute_reply": "2023-06-16T20:26:02.617986Z",
     "shell.execute_reply.started": "2023-06-16T20:19:18.216471Z"
    },
    "tags": []
   },
   "outputs": [
    {
     "name": "stdout",
     "output_type": "stream",
     "text": [
      "lsst.sal.GIS.logevent_heartbeat had 262720 messages - summit had 262660\n",
      "lsst.sal.GIS.logevent_heartbeat does not match\n",
      "lsst.sal.ATOODS.logevent_heartbeat had 259254 messages - summit had 259214\n",
      "lsst.sal.ATOODS.logevent_heartbeat does not match\n",
      "lsst.sal.Test.logevent_heartbeat had 261295 messages - summit had 261243\n",
      "lsst.sal.Test.logevent_heartbeat does not match\n",
      "lsst.sal.ESS.relativeHumidity had 735137 messages - summit had 734512\n",
      "lsst.sal.ESS.relativeHumidity does not match\n",
      "lsst.sal.ESS.logevent_heartbeat had 2888679 messages - summit had 2886217\n",
      "lsst.sal.ESS.logevent_heartbeat does not match\n"
     ]
    }
   ],
   "source": [
    "day = '2023-06-12'\n",
    "day2 = '2023-06-18' # test gives large window 6 days\n",
    "\n",
    "data = {}\n",
    "\n",
    "for topic in selected_topics:\n",
    "    query=f'''SELECT * FROM \"{topic}\" WHERE time >  '{day}T00:00:00.000Z' and time < '{day2}T23:59:59.000Z' '''\n",
    "    result = await cl.query(query)\n",
    "    usdf_result = await usdf_cl.query(query)\n",
    "    cmp(topic, usdf_result, result)\n",
    "    data[topic] = usdf_result\n",
    "    "
   ]
  },
  {
   "cell_type": "code",
   "execution_count": null,
   "id": "1f7e6256-4973-44a4-b40b-fa108d113243",
   "metadata": {},
   "outputs": [],
   "source": [
    "## Reliability "
   ]
  },
  {
   "cell_type": "code",
   "execution_count": null,
   "id": "6ce65803-b1c1-4d4c-96b1-7793fd62e218",
   "metadata": {
    "execution": {
     "iopub.execute_input": "2023-06-16T20:26:02.744239Z",
     "iopub.status.busy": "2023-06-16T20:26:02.744053Z"
    },
    "tags": []
   },
   "outputs": [],
   "source": [
    "for topic in selected_topics:\n",
    "    seqnum = data[topic]['private_seqnum']\n",
    "    print (seqnum)\n",
    "    \n",
    "    "
   ]
  },
  {
   "cell_type": "code",
   "execution_count": 22,
   "id": "0b2e2acd-ef63-4535-b2fe-9136ac765cfb",
   "metadata": {
    "execution": {
     "iopub.execute_input": "2023-06-16T19:50:04.210425Z",
     "iopub.status.busy": "2023-06-16T19:50:04.210058Z",
     "iopub.status.idle": "2023-06-16T19:50:15.033561Z",
     "shell.execute_reply": "2023-06-16T19:50:15.033105Z",
     "shell.execute_reply.started": "2023-06-16T19:50:04.210407Z"
    },
    "tags": []
   },
   "outputs": [
    {
     "name": "stdout",
     "output_type": "stream",
     "text": [
      "30 min on 2023-06-10\n",
      "lsst.sal.GIS.logevent_heartbeat had 0 messages - summit had 0\n",
      "lsst.sal.ATOODS.logevent_heartbeat had 0 messages - summit had 0\n",
      "lsst.sal.Test.logevent_heartbeat had 0 messages - summit had 0\n",
      "lsst.sal.ESS.relativeHumidity had 0 messages - summit had 0\n",
      "lsst.sal.ESS.logevent_heartbeat had 0 messages - summit had 0\n",
      "30 min on 2023-06-11\n",
      "lsst.sal.GIS.logevent_heartbeat had 0 messages - summit had 0\n",
      "lsst.sal.ATOODS.logevent_heartbeat had 0 messages - summit had 0\n",
      "lsst.sal.Test.logevent_heartbeat had 0 messages - summit had 0\n",
      "lsst.sal.ESS.relativeHumidity had 0 messages - summit had 0\n",
      "lsst.sal.ESS.logevent_heartbeat had 0 messages - summit had 0\n",
      "30 min on 2023-06-12\n",
      "lsst.sal.GIS.logevent_heartbeat had 0 messages - summit had 0\n",
      "lsst.sal.ATOODS.logevent_heartbeat had 0 messages - summit had 0\n",
      "lsst.sal.Test.logevent_heartbeat had 0 messages - summit had 0\n",
      "lsst.sal.ESS.relativeHumidity had 0 messages - summit had 0\n",
      "lsst.sal.ESS.logevent_heartbeat had 0 messages - summit had 0\n",
      "30 min on 2023-06-13\n",
      "lsst.sal.GIS.logevent_heartbeat had 0 messages - summit had 0\n",
      "lsst.sal.ATOODS.logevent_heartbeat had 0 messages - summit had 0\n",
      "lsst.sal.Test.logevent_heartbeat had 0 messages - summit had 0\n",
      "lsst.sal.ESS.relativeHumidity had 0 messages - summit had 0\n",
      "lsst.sal.ESS.logevent_heartbeat had 0 messages - summit had 0\n",
      "30 min on 2023-06-14\n",
      "lsst.sal.GIS.logevent_heartbeat had 30 messages - summit had 30\n",
      "lsst.sal.ATOODS.logevent_heartbeat had 29 messages - summit had 29\n",
      "lsst.sal.Test.logevent_heartbeat had 30 messages - summit had 30\n",
      "lsst.sal.ESS.relativeHumidity had 83 messages - summit had 83\n",
      "lsst.sal.ESS.logevent_heartbeat had 330 messages - summit had 330\n",
      "30 min on 2023-06-15\n",
      "lsst.sal.GIS.logevent_heartbeat had 30 messages - summit had 30\n",
      "lsst.sal.ATOODS.logevent_heartbeat had 30 messages - summit had 30\n",
      "lsst.sal.Test.logevent_heartbeat had 29 messages - summit had 29\n",
      "lsst.sal.ESS.relativeHumidity had 84 messages - summit had 84\n",
      "lsst.sal.ESS.logevent_heartbeat had 329 messages - summit had 329\n",
      "30 min on 2023-06-16\n",
      "lsst.sal.GIS.logevent_heartbeat had 30 messages - summit had 30\n",
      "lsst.sal.ATOODS.logevent_heartbeat had 30 messages - summit had 30\n",
      "lsst.sal.Test.logevent_heartbeat had 29 messages - summit had 29\n",
      "lsst.sal.ESS.relativeHumidity had 85 messages - summit had 85\n",
      "lsst.sal.ESS.logevent_heartbeat had 330 messages - summit had 330\n"
     ]
    }
   ],
   "source": [
    "sday = '2023-06-1'     \n",
    "\n",
    "for i in range(0,7):\n",
    "    day = f\"{sday}{i}\"\n",
    "    print(f\"30 min on {day}\")\n",
    "    for topic in selected_topics:\n",
    "        query=f'''SELECT * FROM \"{topic}\" WHERE time >  '{day}T00:00:00.000Z' and time < '{day}T00:00:30.000Z' '''\n",
    "        result = await cl.query(query)\n",
    "        usdf_result = await usdf_cl.query(query)\n",
    "        cmp(topic, usdf_result, result)\n",
    "\n"
   ]
  }
 ],
 "metadata": {
  "kernelspec": {
   "display_name": "LSST",
   "language": "python",
   "name": "lsst"
  },
  "language_info": {
   "codemirror_mode": {
    "name": "ipython",
    "version": 3
   },
   "file_extension": ".py",
   "mimetype": "text/x-python",
   "name": "python",
   "nbconvert_exporter": "python",
   "pygments_lexer": "ipython3",
   "version": "3.10.11"
  }
 },
 "nbformat": 4,
 "nbformat_minor": 5
}
