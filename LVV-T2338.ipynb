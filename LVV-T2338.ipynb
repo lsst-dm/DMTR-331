{
 "cells": [
  {
   "cell_type": "markdown",
   "id": "6ba8bf77-c687-477a-84db-fbcd39c1a860",
   "metadata": {},
   "source": [
    "# For  LDM-503-EFDb  \n",
    "\n",
    "Initialize EFDs Summit and USDF"
   ]
  },
  {
   "cell_type": "code",
   "execution_count": 1,
   "id": "3cc777f2-f27c-4f31-98cb-34444747e645",
   "metadata": {
    "execution": {
     "iopub.execute_input": "2023-06-20T16:45:03.181520Z",
     "iopub.status.busy": "2023-06-20T16:45:03.181241Z",
     "iopub.status.idle": "2023-06-20T16:45:07.159915Z",
     "shell.execute_reply": "2023-06-20T16:45:07.159378Z",
     "shell.execute_reply.started": "2023-06-20T16:45:03.181500Z"
    },
    "tags": []
   },
   "outputs": [],
   "source": [
    "from lsst_efd_client import EfdClient, resample\n",
    "\n",
    "client = EfdClient('summit_efd')\n",
    "client.output = 'dataframe'\n",
    "cl=client.influx_client\n",
    "\n",
    "\n",
    "\n",
    "usdf_client = EfdClient('usdf_efd')\n",
    "usdf_client.output = 'dataframe'\n",
    "usdf_cl=usdf_client.influx_client\n"
   ]
  },
  {
   "cell_type": "code",
   "execution_count": 2,
   "id": "d69d8410-9abf-477b-a744-fce0ca62dbe2",
   "metadata": {
    "execution": {
     "iopub.execute_input": "2023-06-20T16:45:07.161248Z",
     "iopub.status.busy": "2023-06-20T16:45:07.160881Z",
     "iopub.status.idle": "2023-06-20T16:45:07.163832Z",
     "shell.execute_reply": "2023-06-20T16:45:07.163343Z",
     "shell.execute_reply.started": "2023-06-20T16:45:07.161230Z"
    }
   },
   "outputs": [],
   "source": [
    "## Pick five topics"
   ]
  },
  {
   "cell_type": "code",
   "execution_count": 28,
   "id": "740ef198-2f2f-4cee-aead-4e82fb716439",
   "metadata": {
    "execution": {
     "iopub.execute_input": "2023-06-20T18:26:35.487817Z",
     "iopub.status.busy": "2023-06-20T18:26:35.487387Z",
     "iopub.status.idle": "2023-06-20T18:26:35.492824Z",
     "shell.execute_reply": "2023-06-20T18:26:35.492312Z",
     "shell.execute_reply.started": "2023-06-20T18:26:35.487771Z"
    },
    "tags": []
   },
   "outputs": [],
   "source": [
    "import random\n",
    "async def selectTopics(pick):\n",
    "    topics = await client.get_topics()\n",
    "\n",
    "    selected_topics = []\n",
    "    loc = \"summit\"\n",
    "\n",
    "    day = '2023-05-20'\n",
    "\n",
    "    # want to select topics randomly but with messages so randomize all indexes \n",
    "    randoms = random.sample(range(0,len(topics)),len(topics))\n",
    "    for r in randoms:\n",
    "       topic = topics[r]\n",
    "       if ('Test' in topic):\n",
    "           next\n",
    "       result = []\n",
    "       if len(selected_topics) < 5:\n",
    "           query=f'''SELECT * FROM \"{topic}\" WHERE time >  '{day}T00:00:00.000Z' and time < '{day}T00:00:30.000Z' '''\n",
    "           result = await cl.query(query)\n",
    "\n",
    "       if len(result) > 20:\n",
    "           print (f\"{topic} had {len(result)} messages in first 30 min of {day}\")\n",
    "           selected_topics.append(topic)\n",
    "           if len(selected_topics) > 4:\n",
    "             break\n",
    "    print(f\"Random selction of five '{loc}' topics {selected_topics} with messages on {day}\")\n",
    "    return selected_topics"
   ]
  },
  {
   "cell_type": "code",
   "execution_count": 4,
   "id": "65c5acae-c8e6-46aa-b9f4-b37633531d10",
   "metadata": {
    "execution": {
     "iopub.execute_input": "2023-06-20T16:45:09.096559Z",
     "iopub.status.busy": "2023-06-20T16:45:09.096385Z",
     "iopub.status.idle": "2023-06-20T16:45:09.098774Z",
     "shell.execute_reply": "2023-06-20T16:45:09.098418Z",
     "shell.execute_reply.started": "2023-06-20T16:45:09.096544Z"
    }
   },
   "outputs": [],
   "source": [
    "## Utility function to compare reusults"
   ]
  },
  {
   "cell_type": "code",
   "execution_count": 18,
   "id": "917837ed-940f-4cde-b06f-f58e8f53a161",
   "metadata": {
    "execution": {
     "iopub.execute_input": "2023-06-20T18:03:53.669439Z",
     "iopub.status.busy": "2023-06-20T18:03:53.669019Z",
     "iopub.status.idle": "2023-06-20T18:03:53.672434Z",
     "shell.execute_reply": "2023-06-20T18:03:53.672062Z",
     "shell.execute_reply.started": "2023-06-20T18:03:53.669422Z"
    },
    "tags": []
   },
   "outputs": [],
   "source": [
    "def cmp(topic, result, sresult):\n",
    "   #print (f\"{topic} had {len(result)} messages - summit had {len(sresult)}\")\n",
    "   if len(result) != len(sresult):\n",
    "        print (f\"\\033[91m  {topic} does not have the same number of results \\033[0m\")\n",
    "   else:\n",
    "        for k in sresult.keys():\n",
    "            if result[k].all() != sresult[k].all():\n",
    "                print (f\"\\033[91m {topic} {key} does not match \\033[0m\")\n"
   ]
  },
  {
   "cell_type": "code",
   "execution_count": 6,
   "id": "8a79d5e9-8bb5-409c-a3db-e6a3e0318253",
   "metadata": {
    "execution": {
     "iopub.execute_input": "2023-06-20T16:45:09.107333Z",
     "iopub.status.busy": "2023-06-20T16:45:09.107158Z",
     "iopub.status.idle": "2023-06-20T16:45:09.113173Z",
     "shell.execute_reply": "2023-06-20T16:45:09.112811Z",
     "shell.execute_reply.started": "2023-06-20T16:45:09.107320Z"
    }
   },
   "outputs": [],
   "source": [
    "## Get dataframes and compare summit and USDF\n",
    "Doing this day by day "
   ]
  },
  {
   "cell_type": "code",
   "execution_count": 29,
   "id": "1827de3e-ba0c-4d4e-a2d2-e424706f3857",
   "metadata": {
    "execution": {
     "iopub.execute_input": "2023-06-20T18:26:42.286161Z",
     "iopub.status.busy": "2023-06-20T18:26:42.285891Z",
     "iopub.status.idle": "2023-06-20T18:26:42.813630Z",
     "shell.execute_reply": "2023-06-20T18:26:42.813084Z",
     "shell.execute_reply.started": "2023-06-20T18:26:42.286143Z"
    },
    "tags": []
   },
   "outputs": [
    {
     "name": "stdout",
     "output_type": "stream",
     "text": [
      "lsst.sal.MTM1M3.powerSupplyData had 1500 messages in first 30 min of 2023-05-20\n",
      "lsst.sal.ATHexapod.logevent_heartbeat had 30 messages in first 30 min of 2023-05-20\n",
      "lsst.sal.MTMount.generalPurposeGlycolWater had 100 messages in first 30 min of 2023-05-20\n",
      "lsst.sal.MTMount.dynaleneCooling had 100 messages in first 30 min of 2023-05-20\n",
      "lsst.sal.MTMount.elevationDrives had 471 messages in first 30 min of 2023-05-20\n",
      "Random selction of five 'summit' topics ['lsst.sal.MTM1M3.powerSupplyData', 'lsst.sal.ATHexapod.logevent_heartbeat', 'lsst.sal.MTMount.generalPurposeGlycolWater', 'lsst.sal.MTMount.dynaleneCooling', 'lsst.sal.MTMount.elevationDrives'] with messages on 2023-05-20\n"
     ]
    }
   ],
   "source": [
    "selected_topics = await selectTopics(5) # do this once at least"
   ]
  },
  {
   "cell_type": "code",
   "execution_count": 33,
   "id": "b7050926-c49d-4e97-86d1-2e3be82fb1cc",
   "metadata": {
    "execution": {
     "iopub.execute_input": "2023-06-20T19:52:18.267919Z",
     "iopub.status.busy": "2023-06-20T19:52:18.267644Z",
     "iopub.status.idle": "2023-06-20T19:58:10.739146Z",
     "shell.execute_reply": "2023-06-20T19:58:10.738596Z",
     "shell.execute_reply.started": "2023-06-20T19:52:18.267902Z"
    },
    "tags": []
   },
   "outputs": [
    {
     "name": "stdout",
     "output_type": "stream",
     "text": [
      " Checking 2023-06-20\n",
      "lsst.sal.MTM1M3.powerSupplyData had 1300000 messages - summit had 1300000\n",
      "lsst.sal.ATHexapod.logevent_heartbeat had 64819 messages - summit had 64818\n",
      "\u001b[91m  lsst.sal.ATHexapod.logevent_heartbeat does not have the same number of results \u001b[0m\n",
      "lsst.sal.MTMount.generalPurposeGlycolWater had 180915 messages - summit had 180915\n",
      "lsst.sal.MTMount.dynaleneCooling had 180915 messages - summit had 180915\n",
      "lsst.sal.MTMount.elevationDrives had 906688 messages - summit had 906688\n"
     ]
    }
   ],
   "source": [
    "# test gives large window 6 days\n",
    "\n",
    "selected_topics = ['lsst.sal.MTM1M3.powerSupplyData', \n",
    "                   'lsst.sal.ATHexapod.logevent_heartbeat',\n",
    "                   'lsst.sal.MTMount.generalPurposeGlycolWater', \n",
    "                   'lsst.sal.MTMount.dynaleneCooling',\n",
    "                   'lsst.sal.MTMount.elevationDrives']\n",
    "data = {}\n",
    "for d in range(20,21):\n",
    "    day = f\"2023-06-{d}\"\n",
    "    day2 = day\n",
    "    print(f\" Checking {day}\")\n",
    "    for topic in selected_topics:\n",
    "        query=f'''SELECT * FROM \"{topic}\" WHERE time >  '{day}T00:00:00.000Z' and time < '{day2}T23:59:59.000Z' limit 1300000'''\n",
    "        result = await cl.query(query)\n",
    "        usdf_result = await usdf_cl.query(query)\n",
    "        cmp(topic, usdf_result, result)\n",
    "        data[topic] = usdf_result\n",
    "    "
   ]
  },
  {
   "cell_type": "code",
   "execution_count": null,
   "id": "1f7e6256-4973-44a4-b40b-fa108d113243",
   "metadata": {
    "execution": {
     "iopub.status.busy": "2023-06-20T16:46:09.428651Z",
     "iopub.status.idle": "2023-06-20T16:46:09.428889Z",
     "shell.execute_reply": "2023-06-20T16:46:09.428796Z",
     "shell.execute_reply.started": "2023-06-20T16:46:09.428786Z"
    }
   },
   "outputs": [],
   "source": [
    "## Reliability "
   ]
  },
  {
   "cell_type": "code",
   "execution_count": 35,
   "id": "6ce65803-b1c1-4d4c-96b1-7793fd62e218",
   "metadata": {
    "execution": {
     "iopub.execute_input": "2023-06-20T20:16:52.818700Z",
     "iopub.status.busy": "2023-06-20T20:16:52.818421Z",
     "iopub.status.idle": "2023-06-20T20:16:57.923781Z",
     "shell.execute_reply": "2023-06-20T20:16:57.923298Z",
     "shell.execute_reply.started": "2023-06-20T20:16:52.818682Z"
    },
    "tags": []
   },
   "outputs": [
    {
     "name": "stdout",
     "output_type": "stream",
     "text": [
      "lsst.sal.MTM1M3.powerSupplyData private_seqNum increases 100.0% of the sequence\n",
      "lsst.sal.ATHexapod.logevent_heartbeat private_seqNum increases 72.67776423579507% of the sequence\n",
      "lsst.sal.MTMount.generalPurposeGlycolWater private_seqNum increases 90.85979603681287% of the sequence\n",
      "lsst.sal.MTMount.dynaleneCooling private_seqNum increases 90.85979603681287% of the sequence\n",
      "lsst.sal.MTMount.elevationDrives private_seqNum increases 90.84381838074398% of the sequence\n"
     ]
    }
   ],
   "source": [
    "\n",
    "for topic in selected_topics:\n",
    "    seqnum = data[topic]['private_seqNum']\n",
    "    count = 0\n",
    "    i = 1 # see if the sequence increases mostly\n",
    "    prev = seqnum[0]\n",
    "    while i < len(seqnum):\n",
    "        if (seqnum[i] < prev):\n",
    "            #print (f\"Reset at {i} seqnum : {prev}, {seqnum[i]}\")\n",
    "            count = count + 1\n",
    "        i = i + 1\n",
    "    percent = 100 * ((len(seqnum) - count) / len(seqnum))\n",
    "    print(f\"{topic} private_seqNum increases {percent}% of the sequence\")\n",
    "    \n",
    "    "
   ]
  },
  {
   "cell_type": "code",
   "execution_count": null,
   "id": "0b2e2acd-ef63-4535-b2fe-9136ac765cfb",
   "metadata": {
    "execution": {
     "iopub.status.busy": "2023-06-20T16:46:09.430364Z",
     "iopub.status.idle": "2023-06-20T16:46:09.430678Z",
     "shell.execute_reply": "2023-06-20T16:46:09.430588Z",
     "shell.execute_reply.started": "2023-06-20T16:46:09.430579Z"
    },
    "tags": []
   },
   "outputs": [],
   "source": [
    "sday = '2023-06-1'     \n",
    "\n",
    "for i in range(0,7):\n",
    "    day = f\"{sday}{i}\"\n",
    "    print(f\"30 min on {day}\")\n",
    "    for topic in selected_topics:\n",
    "        query=f'''SELECT * FROM \"{topic}\" WHERE time >  '{day}T00:00:00.000Z' and time < '{day}T00:00:30.000Z' '''\n",
    "        result = await cl.query(query)\n",
    "        usdf_result = await usdf_cl.query(query)\n",
    "        cmp(topic, usdf_result, result)\n",
    "\n"
   ]
  }
 ],
 "metadata": {
  "kernelspec": {
   "display_name": "LSST",
   "language": "python",
   "name": "lsst"
  },
  "language_info": {
   "codemirror_mode": {
    "name": "ipython",
    "version": 3
   },
   "file_extension": ".py",
   "mimetype": "text/x-python",
   "name": "python",
   "nbconvert_exporter": "python",
   "pygments_lexer": "ipython3",
   "version": "3.10.10"
  }
 },
 "nbformat": 4,
 "nbformat_minor": 5
}
