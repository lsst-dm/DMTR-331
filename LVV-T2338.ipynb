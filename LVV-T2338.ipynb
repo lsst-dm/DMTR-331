{
 "cells": [
  {
   "cell_type": "markdown",
   "id": "6ba8bf77-c687-477a-84db-fbcd39c1a860",
   "metadata": {},
   "source": [
    "# For  LDM-503-EFDb  \n",
    "\n",
    "Initialize EFDs Summit and USDF"
   ]
  },
  {
   "cell_type": "code",
   "execution_count": 26,
   "id": "3cc777f2-f27c-4f31-98cb-34444747e645",
   "metadata": {
    "execution": {
     "iopub.execute_input": "2024-02-08T18:31:57.085018Z",
     "iopub.status.busy": "2024-02-08T18:31:57.084725Z",
     "iopub.status.idle": "2024-02-08T18:32:00.795211Z",
     "shell.execute_reply": "2024-02-08T18:32:00.793702Z",
     "shell.execute_reply.started": "2024-02-08T18:31:57.084989Z"
    },
    "tags": []
   },
   "outputs": [],
   "source": [
    "from lsst_efd_client import EfdClient, resample\n",
    "\n",
    "client = EfdClient('summit_efd')\n",
    "client.output = 'dataframe'\n",
    "cl=client.influx_client\n",
    "\n",
    "\n",
    "\n",
    "#usdf_client = EfdClient('summit_efd_copy')\n",
    "usdf_client = EfdClient('usdf_efd')\n",
    "usdf_client.output = 'dataframe'\n",
    "usdf_cl=usdf_client.influx_client\n"
   ]
  },
  {
   "cell_type": "markdown",
   "id": "79cde8fa-73f7-4da3-ab76-4602cc4e81c3",
   "metadata": {
    "execution": {
     "iopub.execute_input": "2023-06-20T16:45:07.161248Z",
     "iopub.status.busy": "2023-06-20T16:45:07.160881Z",
     "iopub.status.idle": "2023-06-20T16:45:07.163832Z",
     "shell.execute_reply": "2023-06-20T16:45:07.163343Z",
     "shell.execute_reply.started": "2023-06-20T16:45:07.161230Z"
    }
   },
   "source": [
    "## Pick five topics\n"
   ]
  },
  {
   "cell_type": "code",
   "execution_count": 27,
   "id": "740ef198-2f2f-4cee-aead-4e82fb716439",
   "metadata": {
    "execution": {
     "iopub.execute_input": "2024-02-08T18:32:04.942836Z",
     "iopub.status.busy": "2024-02-08T18:32:04.942435Z",
     "iopub.status.idle": "2024-02-08T18:32:04.951321Z",
     "shell.execute_reply": "2024-02-08T18:32:04.950319Z",
     "shell.execute_reply.started": "2024-02-08T18:32:04.942804Z"
    },
    "tags": []
   },
   "outputs": [],
   "source": [
    "import random\n",
    "async def selectTopics(pick):\n",
    "    topics = await client.get_topics()\n",
    "\n",
    "    selected_topics = []\n",
    "    loc = \"summit\"\n",
    "\n",
    "    day = '2024-01-01'\n",
    "\n",
    "    \n",
    "    # want to select topics randomly but with messages so randomize all indexes \n",
    "    randoms = random.sample(range(0,len(topics)),len(topics))\n",
    "    for r in randoms:\n",
    "       topic = topics[r]\n",
    "       if ('Test' in topic):\n",
    "           next\n",
    "       result = []\n",
    "       if len(selected_topics) < 5:\n",
    "           query=f'''SELECT * FROM \"{topic}\" WHERE time >  '{day}T00:00:00.000Z' and time < '{day}T00:00:30.000Z' '''\n",
    "           result = await cl.query(query)\n",
    "\n",
    "       if len(result) > 20:\n",
    "           print (f\"{topic} had {len(result)} messages in first 30 min of {day}\")\n",
    "           selected_topics.append(topic)\n",
    "           if len(selected_topics) > 4:\n",
    "             break\n",
    "    print(f\"Random selction of five '{loc}' topics {selected_topics} with messages on {day}\")\n",
    "    return selected_topics"
   ]
  },
  {
   "cell_type": "markdown",
   "id": "718e23c8-10fd-4142-94a2-4cbe771a7ffa",
   "metadata": {
    "execution": {
     "iopub.execute_input": "2023-06-20T16:45:09.096559Z",
     "iopub.status.busy": "2023-06-20T16:45:09.096385Z",
     "iopub.status.idle": "2023-06-20T16:45:09.098774Z",
     "shell.execute_reply": "2023-06-20T16:45:09.098418Z",
     "shell.execute_reply.started": "2023-06-20T16:45:09.096544Z"
    }
   },
   "source": [
    "## Utility function to compare reusults"
   ]
  },
  {
   "cell_type": "code",
   "execution_count": 33,
   "id": "917837ed-940f-4cde-b06f-f58e8f53a161",
   "metadata": {
    "execution": {
     "iopub.execute_input": "2024-02-08T18:36:54.929562Z",
     "iopub.status.busy": "2024-02-08T18:36:54.928365Z",
     "iopub.status.idle": "2024-02-08T18:36:54.935565Z",
     "shell.execute_reply": "2024-02-08T18:36:54.934793Z",
     "shell.execute_reply.started": "2024-02-08T18:36:54.929517Z"
    },
    "tags": []
   },
   "outputs": [],
   "source": [
    "def cmp(topic, result, sresult):\n",
    "    print (f\"Compare {topic}\")\n",
    "    problems = 0\n",
    "    if len(result) != len(sresult):\n",
    "        print (f\"\\033[91m  {topic} does not have the same number of results {len(result)}  - summit had {len(sresult)}\\033[0m\")\n",
    "        problems = problems + 1\n",
    "    else:\n",
    "        for k in sresult.keys():\n",
    "            if result[k].all() != sresult[k].all():\n",
    "                print (f\"\\033[91m {topic} {key} does not match \\033[0m\")\n",
    "                problems = problems + 1\n",
    "    "
   ]
  },
  {
   "cell_type": "code",
   "execution_count": 30,
   "id": "1827de3e-ba0c-4d4e-a2d2-e424706f3857",
   "metadata": {
    "execution": {
     "iopub.execute_input": "2024-02-08T18:32:27.909319Z",
     "iopub.status.busy": "2024-02-08T18:32:27.908988Z",
     "iopub.status.idle": "2024-02-08T18:32:28.424193Z",
     "shell.execute_reply": "2024-02-08T18:32:28.423210Z",
     "shell.execute_reply.started": "2024-02-08T18:32:27.909291Z"
    },
    "tags": []
   },
   "outputs": [
    {
     "name": "stdout",
     "output_type": "stream",
     "text": [
      "lsst.sal.MTDomeTrajectory.logevent_heartbeat had 30 messages in first 30 min of 2024-01-01\n",
      "lsst.sal.ATMonochromator.logevent_heartbeat had 29 messages in first 30 min of 2024-01-01\n",
      "lsst.sal.MTM1M3.logevent_heartbeat had 30 messages in first 30 min of 2024-01-01\n",
      "lsst.sal.ESS.lightningStrikeStatus had 30 messages in first 30 min of 2024-01-01\n",
      "lsst.sal.Watcher.logevent_heartbeat had 30 messages in first 30 min of 2024-01-01\n",
      "Random selction of five 'summit' topics ['lsst.sal.MTDomeTrajectory.logevent_heartbeat', 'lsst.sal.ATMonochromator.logevent_heartbeat', 'lsst.sal.MTM1M3.logevent_heartbeat', 'lsst.sal.ESS.lightningStrikeStatus', 'lsst.sal.Watcher.logevent_heartbeat'] with messages on 2024-01-01\n"
     ]
    }
   ],
   "source": [
    "selected_topics = await selectTopics(5) # do this once at least"
   ]
  },
  {
   "cell_type": "markdown",
   "id": "88ae8c1d-7c8a-439e-a5e4-a1c3d1f8b5a1",
   "metadata": {
    "execution": {
     "iopub.execute_input": "2023-07-13T15:08:06.586251Z",
     "iopub.status.busy": "2023-07-13T15:08:06.585983Z",
     "iopub.status.idle": "2023-07-13T15:08:06.589302Z",
     "shell.execute_reply": "2023-07-13T15:08:06.588796Z",
     "shell.execute_reply.started": "2023-07-13T15:08:06.586234Z"
    }
   },
   "source": [
    "## Get dataframes and compare summit and USDF\n",
    "Doing this day by day "
   ]
  },
  {
   "cell_type": "code",
   "execution_count": 34,
   "id": "b7050926-c49d-4e97-86d1-2e3be82fb1cc",
   "metadata": {
    "execution": {
     "iopub.execute_input": "2024-02-08T18:37:03.324703Z",
     "iopub.status.busy": "2024-02-08T18:37:03.324301Z",
     "iopub.status.idle": "2024-02-08T18:40:40.776650Z",
     "shell.execute_reply": "2024-02-08T18:40:40.775830Z",
     "shell.execute_reply.started": "2024-02-08T18:37:03.324653Z"
    },
    "tags": []
   },
   "outputs": [
    {
     "name": "stdout",
     "output_type": "stream",
     "text": [
      " Checking 2024-01-01\n",
      "Compare lsst.sal.MTDomeTrajectory.logevent_heartbeat\n",
      "Compare lsst.sal.ATMonochromator.logevent_heartbeat\n",
      "Compare lsst.sal.MTM1M3.logevent_heartbeat\n",
      "Compare lsst.sal.ESS.lightningStrikeStatus\n",
      "Compare lsst.sal.Watcher.logevent_heartbeat\n",
      " Checking 2024-01-02\n",
      "Compare lsst.sal.MTDomeTrajectory.logevent_heartbeat\n",
      "Compare lsst.sal.ATMonochromator.logevent_heartbeat\n",
      "Compare lsst.sal.MTM1M3.logevent_heartbeat\n",
      "Compare lsst.sal.ESS.lightningStrikeStatus\n",
      "Compare lsst.sal.Watcher.logevent_heartbeat\n",
      " Checking 2024-01-03\n",
      "Compare lsst.sal.MTDomeTrajectory.logevent_heartbeat\n",
      "Compare lsst.sal.ATMonochromator.logevent_heartbeat\n",
      "Compare lsst.sal.MTM1M3.logevent_heartbeat\n",
      "Compare lsst.sal.ESS.lightningStrikeStatus\n",
      "Compare lsst.sal.Watcher.logevent_heartbeat\n",
      " Checking 2024-01-04\n",
      "Compare lsst.sal.MTDomeTrajectory.logevent_heartbeat\n",
      "Compare lsst.sal.ATMonochromator.logevent_heartbeat\n",
      "Compare lsst.sal.MTM1M3.logevent_heartbeat\n",
      "Compare lsst.sal.ESS.lightningStrikeStatus\n",
      "Compare lsst.sal.Watcher.logevent_heartbeat\n",
      " Checking 2024-01-05\n",
      "Compare lsst.sal.MTDomeTrajectory.logevent_heartbeat\n",
      "Compare lsst.sal.ATMonochromator.logevent_heartbeat\n",
      "Compare lsst.sal.MTM1M3.logevent_heartbeat\n",
      "Compare lsst.sal.ESS.lightningStrikeStatus\n",
      "Compare lsst.sal.Watcher.logevent_heartbeat\n",
      " Checking 2024-01-06\n",
      "Compare lsst.sal.MTDomeTrajectory.logevent_heartbeat\n",
      "Compare lsst.sal.ATMonochromator.logevent_heartbeat\n",
      "Compare lsst.sal.MTM1M3.logevent_heartbeat\n",
      "Compare lsst.sal.ESS.lightningStrikeStatus\n",
      "Compare lsst.sal.Watcher.logevent_heartbeat\n"
     ]
    }
   ],
   "source": [
    "# test gives large window 6 days\n",
    "\n",
    "# May topics                 \n",
    "\n",
    "data = {}\n",
    "for d in range(1,7):\n",
    "    if d < 10:\n",
    "       day = f\"2024-01-0{d}\"\n",
    "    else:\n",
    "       day = f\"2024-01-{d}\"\n",
    "        \n",
    "    day2 = day\n",
    "    print(f\" Checking {day}\")\n",
    "    for topic in selected_topics:\n",
    "        query=f'''SELECT * FROM \"{topic}\" WHERE time >  '{day}T00:00:00.000Z' and time < '{day2}T23:59:59.000Z' limit 1300000  '''\n",
    "        # could GROUP BY time(1h) maybe ??\n",
    "        result = await cl.query(query)\n",
    "        usdf_result = await usdf_cl.query(query)\n",
    "        cmp(topic, usdf_result, result)\n",
    "        data[topic] = usdf_result\n",
    "    "
   ]
  },
  {
   "cell_type": "code",
   "execution_count": 32,
   "id": "1f7e6256-4973-44a4-b40b-fa108d113243",
   "metadata": {
    "execution": {
     "iopub.execute_input": "2024-02-08T18:36:24.366626Z",
     "iopub.status.busy": "2024-02-08T18:36:24.366220Z",
     "iopub.status.idle": "2024-02-08T18:36:24.370886Z",
     "shell.execute_reply": "2024-02-08T18:36:24.370007Z",
     "shell.execute_reply.started": "2024-02-08T18:36:24.366597Z"
    }
   },
   "outputs": [],
   "source": [
    "## Reliability "
   ]
  },
  {
   "cell_type": "code",
   "execution_count": 35,
   "id": "6ce65803-b1c1-4d4c-96b1-7793fd62e218",
   "metadata": {
    "execution": {
     "iopub.execute_input": "2024-02-08T18:42:55.716947Z",
     "iopub.status.busy": "2024-02-08T18:42:55.716560Z",
     "iopub.status.idle": "2024-02-08T18:42:58.955720Z",
     "shell.execute_reply": "2024-02-08T18:42:58.954875Z",
     "shell.execute_reply.started": "2024-02-08T18:42:55.716916Z"
    },
    "tags": []
   },
   "outputs": [
    {
     "name": "stderr",
     "output_type": "stream",
     "text": [
      "/tmp/ipykernel_713/336143790.py:5: FutureWarning: Series.__getitem__ treating keys as positions is deprecated. In a future version, integer keys will always be treated as labels (consistent with DataFrame behavior). To access a value by position, use `ser.iloc[pos]`\n",
      "  prev = seqnum[0]\n",
      "/tmp/ipykernel_713/336143790.py:7: FutureWarning: Series.__getitem__ treating keys as positions is deprecated. In a future version, integer keys will always be treated as labels (consistent with DataFrame behavior). To access a value by position, use `ser.iloc[pos]`\n",
      "  if (seqnum[i] < prev):\n"
     ]
    },
    {
     "name": "stdout",
     "output_type": "stream",
     "text": [
      "lsst.sal.MTDomeTrajectory.logevent_heartbeat private_seqNum increases 100.0% of the sequence\n",
      "lsst.sal.ATMonochromator.logevent_heartbeat private_seqNum increases 100.0% of the sequence\n",
      "lsst.sal.MTM1M3.logevent_heartbeat private_seqNum increases 100.0% of the sequence\n",
      "lsst.sal.ESS.lightningStrikeStatus private_seqNum increases 100.0% of the sequence\n",
      "lsst.sal.Watcher.logevent_heartbeat private_seqNum increases 100.0% of the sequence\n"
     ]
    }
   ],
   "source": [
    "\n",
    "for topic in selected_topics:\n",
    "    seqnum = data[topic]['private_seqNum']\n",
    "    count = 0\n",
    "    i = 1 # see if the sequence increases mostly\n",
    "    prev = seqnum[0]\n",
    "    while i < len(seqnum):\n",
    "        if (seqnum[i] < prev):\n",
    "            #print (f\"Reset at {i} seqnum : {prev}, {seqnum[i]}\")\n",
    "            count = count + 1\n",
    "        i = i + 1\n",
    "    percent = 100 * ((len(seqnum) - count) / len(seqnum))\n",
    "    print(f\"{topic} private_seqNum increases {percent}% of the sequence\")\n",
    "    \n",
    "    "
   ]
  }
 ],
 "metadata": {
  "kernelspec": {
   "display_name": "LSST",
   "language": "python",
   "name": "lsst"
  },
  "language_info": {
   "codemirror_mode": {
    "name": "ipython",
    "version": 3
   },
   "file_extension": ".py",
   "mimetype": "text/x-python",
   "name": "python",
   "nbconvert_exporter": "python",
   "pygments_lexer": "ipython3",
   "version": "3.11.7"
  }
 },
 "nbformat": 4,
 "nbformat_minor": 5
}
